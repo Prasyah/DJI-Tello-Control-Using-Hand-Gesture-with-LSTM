{
 "cells": [
  {
   "cell_type": "markdown",
   "metadata": {},
   "source": [
    "# **Ini Untuk EL SETUP**\n",
    "run cellnya aja"
   ]
  },
  {
   "cell_type": "code",
   "execution_count": 2,
   "metadata": {},
   "outputs": [
    {
     "name": "stdout",
     "output_type": "stream",
     "text": [
      "WARNING:tensorflow:From c:\\Anaconda\\Lib\\site-packages\\keras\\src\\losses.py:2976: The name tf.losses.sparse_softmax_cross_entropy is deprecated. Please use tf.compat.v1.losses.sparse_softmax_cross_entropy instead.\n",
      "\n"
     ]
    }
   ],
   "source": [
    "import numpy as np\n",
    "import os\n",
    "import cv2 as cv\n",
    "import mediapipe as mp\n",
    "from mediapipe.python.solutions.pose import PoseLandmark\n",
    "import math"
   ]
  },
  {
   "cell_type": "markdown",
   "metadata": {},
   "source": [
    "# *Sesuain sama kelas yang mau dipake misalnya kursi roda wajib 5, soalnya kontrolnya 5 doang*"
   ]
  },
  {
   "cell_type": "code",
   "execution_count": 5,
   "metadata": {},
   "outputs": [],
   "source": [
    "# START COLLECT DATASET\n",
    "\n",
    "# DATA_PATH = os.path.join('My_Datasets')\n",
    "# DATA_PATH = os.path.join('My_Temp')\n",
    "\n",
    "# actions = np.array(['Berapa'])\n",
    "# no_sequences = 10\n",
    "\n",
    "# temp_no_sequences = 10\n",
    "# no_sequences = temp_no_sequences\n",
    "# sequence_length = 30\n",
    "\n",
    "# END COLLECT DATAASET\n",
    "\n",
    "    \n",
    "# # START NORMALIZING DATASET\n",
    "DATA_PATH = os.path.join('Dataset') #ganti ini bos, ini nama foldernya\n",
    "\n",
    "actions = np.array([\"Maju\", \"Mundur\", \"Kanan\", \"Kiri\", \"Atas\", \"Bawah\", \"Putar_kanan\", \"Putar_kiri\" #kalau kursi roda ini udah fix, kalau yang lain sesuain\n",
    "                    ])\n",
    "no_sequences = 50\n",
    "sequence_length = 50 #ini eksperiment aja kalau modellu jelek pake setting ini bisa ganti, boleh lebih banyak inget tergantung epoch dkk juga\n",
    "# # END NORMALIZING DATASET"
   ]
  },
  {
   "cell_type": "code",
   "execution_count": 15,
   "metadata": {},
   "outputs": [],
   "source": [
    "def create_folder(actions, data_path, no_sequences):\n",
    "    for action in actions: \n",
    "        for sequence in range(no_sequences):\n",
    "            try: \n",
    "                os.makedirs(os.path.join(data_path, action, str(sequence)))\n",
    "            except:\n",
    "                pass\n",
    "\n"
   ]
  },
  {
   "cell_type": "markdown",
   "metadata": {},
   "source": [
    "# **Kalau mau modif dataset, kalau belum punya JANGAN RUN INI**\n"
   ]
  },
  {
   "cell_type": "code",
   "execution_count": 4,
   "metadata": {},
   "outputs": [],
   "source": [
    "def change_file_sequence(folder_name, total_sequences, start_next_sequences, actions):\n",
    "    DATA_PATH_CHANGE = os.path.join(rf'C:\\Users\\krisn\\OneDrive\\Desktop\\Learning\\machine-learning-study\\lstm-bisindo-translator\\{folder_name}')\n",
    "\n",
    "    next_folder_number = start_next_sequences\n",
    "\n",
    "    for action in actions:\n",
    "        for new_sequence in range(total_sequences):\n",
    "            PATH_OLD = os.path.join(DATA_PATH_CHANGE, action, str(new_sequence))\n",
    "            PATH_NEW = os.path.join(DATA_PATH_CHANGE, action, str(new_sequence + next_folder_number))\n",
    "\n",
    "            os.rename(PATH_OLD, PATH_NEW)         "
   ]
  },
  {
   "cell_type": "code",
   "execution_count": 5,
   "metadata": {},
   "outputs": [
    {
     "ename": "FileNotFoundError",
     "evalue": "[WinError 3] The system cannot find the path specified: 'C:\\\\Users\\\\krisn\\\\OneDrive\\\\Desktop\\\\Learning\\\\machine-learning-study\\\\lstm-bisindo-translator\\\\Dataset\\\\Stop\\\\0' -> 'C:\\\\Users\\\\krisn\\\\OneDrive\\\\Desktop\\\\Learning\\\\machine-learning-study\\\\lstm-bisindo-translator\\\\Dataset\\\\Stop\\\\20'",
     "output_type": "error",
     "traceback": [
      "\u001b[1;31m---------------------------------------------------------------------------\u001b[0m",
      "\u001b[1;31mFileNotFoundError\u001b[0m                         Traceback (most recent call last)",
      "Cell \u001b[1;32mIn[5], line 1\u001b[0m\n\u001b[1;32m----> 1\u001b[0m \u001b[43mchange_file_sequence\u001b[49m\u001b[43m(\u001b[49m\u001b[43mDATA_PATH\u001b[49m\u001b[43m,\u001b[49m\u001b[43m \u001b[49m\u001b[43mtotal_sequences\u001b[49m\u001b[38;5;241;43m=\u001b[39;49m\u001b[38;5;241;43m10\u001b[39;49m\u001b[43m \u001b[49m\u001b[38;5;241;43m-\u001b[39;49m\u001b[43m \u001b[49m\u001b[38;5;241;43m0\u001b[39;49m\u001b[43m,\u001b[49m\u001b[43m \u001b[49m\u001b[43mstart_next_sequences\u001b[49m\u001b[38;5;241;43m=\u001b[39;49m\u001b[38;5;241;43m20\u001b[39;49m\u001b[43m,\u001b[49m\u001b[43m \u001b[49m\u001b[43mactions\u001b[49m\u001b[38;5;241;43m=\u001b[39;49m\u001b[43mactions\u001b[49m\u001b[43m)\u001b[49m\n",
      "Cell \u001b[1;32mIn[4], line 11\u001b[0m, in \u001b[0;36mchange_file_sequence\u001b[1;34m(folder_name, total_sequences, start_next_sequences, actions)\u001b[0m\n\u001b[0;32m      8\u001b[0m PATH_OLD \u001b[38;5;241m=\u001b[39m os\u001b[38;5;241m.\u001b[39mpath\u001b[38;5;241m.\u001b[39mjoin(DATA_PATH_CHANGE, action, \u001b[38;5;28mstr\u001b[39m(new_sequence))\n\u001b[0;32m      9\u001b[0m PATH_NEW \u001b[38;5;241m=\u001b[39m os\u001b[38;5;241m.\u001b[39mpath\u001b[38;5;241m.\u001b[39mjoin(DATA_PATH_CHANGE, action, \u001b[38;5;28mstr\u001b[39m(new_sequence \u001b[38;5;241m+\u001b[39m next_folder_number))\n\u001b[1;32m---> 11\u001b[0m \u001b[43mos\u001b[49m\u001b[38;5;241;43m.\u001b[39;49m\u001b[43mrename\u001b[49m\u001b[43m(\u001b[49m\u001b[43mPATH_OLD\u001b[49m\u001b[43m,\u001b[49m\u001b[43m \u001b[49m\u001b[43mPATH_NEW\u001b[49m\u001b[43m)\u001b[49m\n",
      "\u001b[1;31mFileNotFoundError\u001b[0m: [WinError 3] The system cannot find the path specified: 'C:\\\\Users\\\\krisn\\\\OneDrive\\\\Desktop\\\\Learning\\\\machine-learning-study\\\\lstm-bisindo-translator\\\\Dataset\\\\Stop\\\\0' -> 'C:\\\\Users\\\\krisn\\\\OneDrive\\\\Desktop\\\\Learning\\\\machine-learning-study\\\\lstm-bisindo-translator\\\\Dataset\\\\Stop\\\\20'"
     ]
    }
   ],
   "source": [
    "change_file_sequence(DATA_PATH, total_sequences=10 - 0, start_next_sequences=20, actions=actions)"
   ]
  },
  {
   "cell_type": "markdown",
   "metadata": {},
   "source": [
    "# **lanjut kesini dlu**"
   ]
  },
  {
   "cell_type": "code",
   "execution_count": 16,
   "metadata": {},
   "outputs": [],
   "source": [
    "\n",
    "create_folder(actions, DATA_PATH, no_sequences)"
   ]
  },
  {
   "cell_type": "markdown",
   "metadata": {},
   "source": [
    "# **Collect Keypoint Values for Training and Testing**"
   ]
  },
  {
   "cell_type": "code",
   "execution_count": 6,
   "metadata": {},
   "outputs": [],
   "source": [
    "#define mediapipe holistic and drawing utils\n",
    "mp_holistic = mp.solutions.holistic\n",
    "mp_drawing = mp.solutions.drawing_utils\n",
    "mp_drawing_styles = mp.solutions.drawing_styles\n",
    "mp_pose = mp.solutions.pose"
   ]
  },
  {
   "cell_type": "code",
   "execution_count": 7,
   "metadata": {},
   "outputs": [],
   "source": [
    "#detect using mediapipe model\n",
    "def media_pipe_detection(image, model):\n",
    "    image = cv.cvtColor(image, cv.COLOR_BGR2RGB) \n",
    "    image.flags.writeable = False\n",
    "    results = model.process(image)\n",
    "    image.flags.writeable = True\n",
    "    image = cv.cvtColor(image, cv.COLOR_RGB2BGR) \n",
    "    return image, results\n",
    "\n",
    "def draw_land_marks(image, results):\n",
    "    custom_pose_connections = list(mp_pose.POSE_CONNECTIONS)\n",
    "    \n",
    "    excluded_landmarks = [ \n",
    "        PoseLandmark.NOSE,\n",
    "        PoseLandmark.LEFT_EYE_INNER,\n",
    "        PoseLandmark.LEFT_EYE,\n",
    "        PoseLandmark.LEFT_EYE_OUTER,\n",
    "        PoseLandmark.RIGHT_EYE_INNER,\n",
    "        PoseLandmark.RIGHT_EYE,\n",
    "        PoseLandmark.RIGHT_EYE_OUTER,\n",
    "        PoseLandmark.LEFT_EAR,\n",
    "        PoseLandmark.RIGHT_EAR,\n",
    "        PoseLandmark.MOUTH_LEFT,\n",
    "        PoseLandmark.MOUTH_RIGHT,\n",
    "        PoseLandmark.LEFT_HIP,\n",
    "        PoseLandmark.RIGHT_HIP,\n",
    "        PoseLandmark.LEFT_KNEE,\n",
    "        PoseLandmark.RIGHT_KNEE,\n",
    "        PoseLandmark.LEFT_ANKLE,\n",
    "        PoseLandmark.RIGHT_ANKLE,\n",
    "        PoseLandmark.LEFT_HEEL,\n",
    "        PoseLandmark.RIGHT_HEEL,\n",
    "        PoseLandmark.LEFT_FOOT_INDEX,\n",
    "        PoseLandmark.RIGHT_FOOT_INDEX\n",
    "    ]\n",
    "\n",
    "    for landmark in excluded_landmarks:\n",
    "        custom_pose_connections = [connection_tuple for connection_tuple in custom_pose_connections if landmark.value not in connection_tuple]\n",
    "\n",
    "    mp_drawing.draw_landmarks(image, results.pose_landmarks, connections=custom_pose_connections)\n",
    "    mp_drawing.draw_landmarks(image, results.left_hand_landmarks, mp_holistic.HAND_CONNECTIONS)\n",
    "    mp_drawing.draw_landmarks(image, results.right_hand_landmarks, mp_holistic.HAND_CONNECTIONS)\n",
    "\n",
    "def extract_keypoints(results):\n",
    "    if results.pose_landmarks:\n",
    "        selected_pose_landmarks = results.pose_landmarks.landmark[11:23]\n",
    "        pose = np.array([[res.x, res.y] for res in selected_pose_landmarks]).flatten()\n",
    "    else:\n",
    "        pose = np.zeros(22*2)\n",
    "\n",
    "    left_hand = np.array([[res.x, res.y] for res in results.left_hand_landmarks.landmark]).flatten() if results.left_hand_landmarks else np.zeros(21*2)\n",
    "    right_hand = np.array([[res.x, res.y] for res in results.right_hand_landmarks.landmark]).flatten() if results.right_hand_landmarks else np.zeros(21*2)\n",
    "   \n",
    "    return np.concatenate([pose, left_hand, right_hand])"
   ]
  },
  {
   "cell_type": "markdown",
   "metadata": {},
   "source": [
    "# *cap=cv.videocapture(0) untuk kamera utama, misalnya yang muncul droidcam atau obs, ganti ke 1 /2/3/ dst*"
   ]
  },
  {
   "cell_type": "code",
   "execution_count": 13,
   "metadata": {},
   "outputs": [
    {
     "ename": "KeyboardInterrupt",
     "evalue": "",
     "output_type": "error",
     "traceback": [
      "\u001b[1;31m---------------------------------------------------------------------------\u001b[0m",
      "\u001b[1;31mKeyboardInterrupt\u001b[0m                         Traceback (most recent call last)",
      "Cell \u001b[1;32mIn[13], line 26\u001b[0m\n\u001b[0;32m     23\u001b[0m     cv\u001b[38;5;241m.\u001b[39mputText(image, \u001b[38;5;124m'\u001b[39m\u001b[38;5;124mNEXT SEQUENCE\u001b[39m\u001b[38;5;124m'\u001b[39m, (\u001b[38;5;241m120\u001b[39m,\u001b[38;5;241m200\u001b[39m), \n\u001b[0;32m     24\u001b[0m                cv\u001b[38;5;241m.\u001b[39mFONT_HERSHEY_SIMPLEX, \u001b[38;5;241m1\u001b[39m, (\u001b[38;5;241m0\u001b[39m,\u001b[38;5;241m255\u001b[39m, \u001b[38;5;241m0\u001b[39m), \u001b[38;5;241m4\u001b[39m, cv\u001b[38;5;241m.\u001b[39mLINE_AA)\n\u001b[0;32m     25\u001b[0m     cv\u001b[38;5;241m.\u001b[39mimshow(\u001b[38;5;124m'\u001b[39m\u001b[38;5;124mOpenCV Feed\u001b[39m\u001b[38;5;124m'\u001b[39m, image)\n\u001b[1;32m---> 26\u001b[0m     cv\u001b[38;5;241m.\u001b[39mwaitKey(\u001b[38;5;241m5000\u001b[39m)\n\u001b[0;32m     28\u001b[0m \u001b[38;5;28;01melse\u001b[39;00m: \n\u001b[0;32m     29\u001b[0m     cv\u001b[38;5;241m.\u001b[39mputText(image, \u001b[38;5;124m'\u001b[39m\u001b[38;5;124mCollecting frames for \u001b[39m\u001b[38;5;132;01m{}\u001b[39;00m\u001b[38;5;124m Video Number \u001b[39m\u001b[38;5;132;01m{}\u001b[39;00m\u001b[38;5;124m'\u001b[39m\u001b[38;5;241m.\u001b[39mformat(action, sequence), (\u001b[38;5;241m15\u001b[39m,\u001b[38;5;241m12\u001b[39m), \n\u001b[0;32m     30\u001b[0m                cv\u001b[38;5;241m.\u001b[39mFONT_HERSHEY_SIMPLEX, \u001b[38;5;241m0.5\u001b[39m, (\u001b[38;5;241m0\u001b[39m, \u001b[38;5;241m0\u001b[39m, \u001b[38;5;241m255\u001b[39m), \u001b[38;5;241m2\u001b[39m, cv\u001b[38;5;241m.\u001b[39mLINE_AA)\n",
      "\u001b[1;31mKeyboardInterrupt\u001b[0m: "
     ]
    }
   ],
   "source": [
    "cap = cv.VideoCapture(0)\n",
    "with mp_holistic.Holistic(min_detection_confidence=0.5, min_tracking_confidence=0.5) as holistic:\n",
    "\n",
    "    for action in actions:\n",
    "        for sequence in range(no_sequences):\n",
    "            for frame_num in range(sequence_length):\n",
    "\n",
    "                ret, frame = cap.read()\n",
    "\n",
    "                image, results = media_pipe_detection(frame, holistic)\n",
    "                \n",
    "                #get ready for capture current sequence\n",
    "                if frame_num == 0: \n",
    "                    cv.putText(image, 'STARTING COLLECTION', (120,200), \n",
    "                               cv.FONT_HERSHEY_SIMPLEX, 1, (0,255, 0), 4, cv.LINE_AA)\n",
    "                    cv.putText(image, 'Collecting frames for {} Video Number {}'.format(action, sequence), (15,12), \n",
    "                               cv.FONT_HERSHEY_SIMPLEX, 0.5, (0, 0, 255), 2, cv.LINE_AA)\n",
    "                    cv.imshow('OpenCV Feed', image)\n",
    "                    cv.waitKey(5000)\n",
    "                \n",
    "                #prepare for next sequence\n",
    "                elif frame_num == sequence_length - 1 :\n",
    "                    cv.putText(image, 'NEXT SEQUENCE', (120,200), \n",
    "                               cv.FONT_HERSHEY_SIMPLEX, 1, (0,255, 0), 4, cv.LINE_AA)\n",
    "                    cv.imshow('OpenCV Feed', image)\n",
    "                    cv.waitKey(5000)\n",
    "\n",
    "                else: \n",
    "                    cv.putText(image, 'Collecting frames for {} Video Number {}'.format(action, sequence), (15,12), \n",
    "                               cv.FONT_HERSHEY_SIMPLEX, 0.5, (0, 0, 255), 2, cv.LINE_AA)\n",
    "                    cv.imshow('OpenCV Feed', image)\n",
    "\n",
    "                black_bg = np.zeros((frame.shape[0], frame.shape[1], frame.shape[2]))\n",
    "\n",
    "                draw_land_marks(image, results)\n",
    "                draw_land_marks(black_bg, results)\n",
    "\n",
    "                cv.imwrite(os.path.join(DATA_PATH, action, str(sequence), f\"{frame_num}-clear.jpg\"), frame)\n",
    "                cv.imwrite(os.path.join(DATA_PATH, action, str(sequence), f\"{frame_num}.jpg\"), image)\n",
    "                cv.imwrite(os.path.join(DATA_PATH, action, str(sequence), f\"{frame_num}-black.jpg\"), black_bg)\n",
    "                \n",
    "                keypoints = extract_keypoints(results)\n",
    "                npy_path = os.path.join(DATA_PATH, action, str(sequence), str(frame_num))\n",
    "                np.save(npy_path, keypoints)\n",
    "\n",
    "                if cv.waitKey(10) & 0xFF == ord('q'):\n",
    "                    break\n",
    "                    \n",
    "    cap.release()\n",
    "    cv.destroyAllWindows()"
   ]
  },
  {
   "cell_type": "code",
   "execution_count": 1,
   "metadata": {},
   "outputs": [
    {
     "ename": "NameError",
     "evalue": "name 'cap' is not defined",
     "output_type": "error",
     "traceback": [
      "\u001b[1;31m---------------------------------------------------------------------------\u001b[0m",
      "\u001b[1;31mNameError\u001b[0m                                 Traceback (most recent call last)",
      "Input \u001b[1;32mIn [1]\u001b[0m, in \u001b[0;36m<cell line: 1>\u001b[1;34m()\u001b[0m\n\u001b[1;32m----> 1\u001b[0m \u001b[43mcap\u001b[49m\u001b[38;5;241m.\u001b[39mrelease()\n\u001b[0;32m      2\u001b[0m cv\u001b[38;5;241m.\u001b[39mdestroyAllWindows()\n",
      "\u001b[1;31mNameError\u001b[0m: name 'cap' is not defined"
     ]
    }
   ],
   "source": []
  },
  {
   "cell_type": "markdown",
   "metadata": {},
   "source": [
    "# **Normalize Datasets**"
   ]
  },
  {
   "cell_type": "code",
   "execution_count": 10,
   "metadata": {},
   "outputs": [],
   "source": [
    "coor_x = []\n",
    "coor_y = []\n",
    "coordinates = []\n",
    "\n",
    "for action in actions:\n",
    "     for sequence in np.array(os.listdir(os.path.join(DATA_PATH, action))).astype(int):\n",
    "        for frame_num in range(sequence_length):\n",
    "            res = np.load(os.path.join(DATA_PATH, action, str(sequence), \"{}.npy\".format(frame_num)))\n",
    "            for index, coor in enumerate(res):\n",
    "                coordinates.append(coor)\n",
    "\n",
    "                if(index % 2 != 0):\n",
    "                    coor_x.append(coor)\n",
    "                else:\n",
    "                    coor_y.append(coor)"
   ]
  },
  {
   "cell_type": "code",
   "execution_count": 11,
   "metadata": {},
   "outputs": [
    {
     "name": "stdout",
     "output_type": "stream",
     "text": [
      "1350000\n"
     ]
    }
   ],
   "source": [
    "print(len(coordinates))"
   ]
  },
  {
   "cell_type": "code",
   "execution_count": 12,
   "metadata": {},
   "outputs": [],
   "source": [
    "midpoint_x = (coor_x[0] + coor_x[1])/2\n",
    "midpoint_y = (coor_y[0] + coor_y[1])/2\n",
    "\n",
    "# delta_x = midpoint_x - frame_width/2\n",
    "# delta_y = midpoint_y - frame_height/2\n",
    "\n",
    "shoulder_delta_x = coor_x[1] - coor_x[0]\n",
    "shoulder_delta_y = coor_y[1] - coor_y[0]\n",
    "shoulder_width = math.sqrt(pow(shoulder_delta_x, 2) + pow(shoulder_delta_y, 2))"
   ]
  },
  {
   "cell_type": "code",
   "execution_count": 10,
   "metadata": {},
   "outputs": [],
   "source": [
    "def normalization(midpoint_x, midpoint_y, shoulder_width, coordinates):\n",
    "    print(\"Koordinat awal:\")\n",
    "    print(\"Max: \" + str(max(coordinates)))\n",
    "    print(\"Min: \" + str(min(coordinates)))\n",
    "\n",
    "\n",
    "    for index, coor in enumerate(coordinates):\n",
    "        \n",
    "        #position invariant\n",
    "        if(index % 2 != 0):\n",
    "            coordinates[index] -= midpoint_x\n",
    "        else:\n",
    "            coordinates[index] -= midpoint_y\n",
    "\n",
    "        #scale invariant\n",
    "        coordinates[index] /= shoulder_width\n",
    "\n",
    "    print(\"\\nKoordinat normalisasi:\")\n",
    "    print(\"Max: \" + str(max(coordinates)))\n",
    "    print(\"Min: \" + str(min(coordinates)))\n",
    "    return coordinates\n",
    "\n",
    "def save_normalization(paths, actions, no_sequences, sequence_length, coor_norm):\n",
    "    total_landmarks = 108\n",
    "    temp_index = 0\n",
    "\n",
    "    for action in actions:\n",
    "        for sequence in range(no_sequences):\n",
    "            for frame_num in range(sequence_length):\n",
    "                saved_coor_norm = coor_norm[temp_index:temp_index+total_landmarks]\n",
    "\n",
    "                norm_npy_path = os.path.join(paths, action, str(sequence), str(frame_num) + \"-norm\")\n",
    "                np.save(norm_npy_path, saved_coor_norm)\n",
    "\n",
    "                temp_index += total_landmarks"
   ]
  },
  {
   "cell_type": "code",
   "execution_count": 15,
   "metadata": {},
   "outputs": [
    {
     "name": "stdout",
     "output_type": "stream",
     "text": [
      "Koordinat awal:\n",
      "Max: 1.7585489749908447\n",
      "Min: -0.09089713543653488\n",
      "\n",
      "Koordinat normalisasi:\n",
      "Max: 2.0470440815012934\n",
      "Min: -1.817013938994187\n"
     ]
    }
   ],
   "source": [
    "normalized_coor = normalization(midpoint_x, midpoint_y, shoulder_width, coordinates)\n",
    "\n",
    "save_normalization(DATA_PATH, actions, no_sequences, sequence_length, normalized_coor)"
   ]
  },
  {
   "cell_type": "code",
   "execution_count": 16,
   "metadata": {},
   "outputs": [],
   "source": [
    "check_coordinates = []\n",
    "\n",
    "for action in actions:\n",
    "     for sequence in np.array(os.listdir(os.path.join(DATA_PATH, action))).astype(int):\n",
    "        for frame_num in range(sequence_length):\n",
    "            res = np.load(os.path.join(DATA_PATH, action, str(sequence), \"{}-norm.npy\".format(frame_num)))\n",
    "            for index, coor in enumerate(res):\n",
    "                check_coordinates.append(coor)"
   ]
  },
  {
   "cell_type": "code",
   "execution_count": 17,
   "metadata": {},
   "outputs": [
    {
     "name": "stdout",
     "output_type": "stream",
     "text": [
      "1350000\n",
      "Max: 2.0470440815012934\n",
      "Min: -1.817013938994187\n"
     ]
    }
   ],
   "source": [
    "print(len(check_coordinates))\n",
    "print(\"Max: \" + str(max(check_coordinates)))\n",
    "print(\"Min: \" + str(min(check_coordinates)))"
   ]
  },
  {
   "cell_type": "code",
   "execution_count": 18,
   "metadata": {},
   "outputs": [
    {
     "name": "stdout",
     "output_type": "stream",
     "text": [
      "1350000\n",
      "0.7784711122512817\n",
      "194400\n",
      "108\n"
     ]
    }
   ],
   "source": [
    "print(len(coor_x) * 2)\n",
    "print(coor_x[0])\n",
    "print(2*30*30*108)\n",
    "print(12*2 + 21 * 2 * 2)"
   ]
  },
  {
   "cell_type": "code",
   "execution_count": 19,
   "metadata": {},
   "outputs": [
    {
     "data": {
      "text/plain": [
       "5"
      ]
     },
     "execution_count": 19,
     "metadata": {},
     "output_type": "execute_result"
    }
   ],
   "source": [
    "len(actions)"
   ]
  },
  {
   "cell_type": "code",
   "execution_count": 20,
   "metadata": {},
   "outputs": [
    {
     "data": {
      "text/plain": [
       "1360800"
      ]
     },
     "execution_count": 20,
     "metadata": {},
     "output_type": "execute_result"
    }
   ],
   "source": [
    "108*30*30*14"
   ]
  }
 ],
 "metadata": {
  "kernelspec": {
   "display_name": "base",
   "language": "python",
   "name": "python3"
  },
  "language_info": {
   "codemirror_mode": {
    "name": "ipython",
    "version": 3
   },
   "file_extension": ".py",
   "mimetype": "text/x-python",
   "name": "python",
   "nbconvert_exporter": "python",
   "pygments_lexer": "ipython3",
   "version": "3.11.10"
  }
 },
 "nbformat": 4,
 "nbformat_minor": 2
}
